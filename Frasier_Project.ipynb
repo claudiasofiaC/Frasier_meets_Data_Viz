{
  "nbformat": 4,
  "nbformat_minor": 0,
  "metadata": {
    "colab": {
      "name": "Frasier:Project.BUILDWEEK.ipynb",
      "provenance": [],
      "collapsed_sections": []
    },
    "kernelspec": {
      "name": "python3",
      "display_name": "Python 3"
    }
  },
  "cells": [
    {
      "cell_type": "code",
      "metadata": {
        "id": "oydPrO9hG-ws",
        "colab_type": "code",
        "colab": {}
      },
      "source": [
        "#import data\n",
        "\n",
        "#from google.colab import files\n",
        "#uploaded = files.upload()"
      ],
      "execution_count": null,
      "outputs": []
    },
    {
      "cell_type": "code",
      "metadata": {
        "id": "irq9rxYqNUGI",
        "colab_type": "code",
        "colab": {}
      },
      "source": [
        "#!pip install -q kaggle#"
      ],
      "execution_count": null,
      "outputs": []
    },
    {
      "cell_type": "code",
      "metadata": {
        "id": "0jOtNruQNUPR",
        "colab_type": "code",
        "colab": {}
      },
      "source": [
        "#!mkdir -p ~/.kaggle\n",
        "#!cp kaggle.json ~/.kaggle/"
      ],
      "execution_count": null,
      "outputs": []
    },
    {
      "cell_type": "code",
      "metadata": {
        "id": "rz_apZmoNUNq",
        "colab_type": "code",
        "colab": {}
      },
      "source": [
        "#!chmod 600 ~/.kaggle/kaggle.json"
      ],
      "execution_count": null,
      "outputs": []
    },
    {
      "cell_type": "code",
      "metadata": {
        "id": "0ZLD5ga0Srdd",
        "colab_type": "code",
        "colab": {}
      },
      "source": [
        "#!kaggle datasets list -s Frasier"
      ],
      "execution_count": null,
      "outputs": []
    },
    {
      "cell_type": "code",
      "metadata": {
        "id": "d0lHqYnxSril",
        "colab_type": "code",
        "colab": {}
      },
      "source": [
        "#!kaggle datasets download -d sulabhbista/frasier-dialogs"
      ],
      "execution_count": null,
      "outputs": []
    },
    {
      "cell_type": "code",
      "metadata": {
        "id": "46VWbr4eSrlg",
        "colab_type": "code",
        "colab": {}
      },
      "source": [
        "#!unzip frasier-dialogs.zip"
      ],
      "execution_count": null,
      "outputs": []
    },
    {
      "cell_type": "code",
      "metadata": {
        "id": "rgeUcstj2zhu",
        "colab_type": "code",
        "colab": {}
      },
      "source": [
        "#imports\n",
        "\n",
        "import io\n",
        "\n",
        "import matplotlib.pyplot as plt\n",
        "% matplotlib inline\n",
        "\n",
        "import pandas as pd\n",
        "\n",
        "from wordcloud import WordCloud\n",
        "\n",
        "import seaborn as sns\n",
        "import numpy as np\n",
        "from os import path\n",
        "from PIL import Image\n",
        "from wordcloud import WordCloud, STOPWORDS, ImageColorGenerator"
      ],
      "execution_count": null,
      "outputs": []
    },
    {
      "cell_type": "code",
      "metadata": {
        "id": "NCdl7I6u9Zix",
        "colab_type": "code",
        "colab": {
          "base_uri": "https://localhost:8080/",
          "height": 204
        },
        "outputId": "688f1bbd-ef1f-44b5-b02c-04f12cbc5eb3"
      },
      "source": [
        "scripts = pd.read_csv('https://raw.githubusercontent.com/claudiasofiaC/build-week/master/script.csv?token=AMYQQCXYLDLFRPCGH3TQY5K5XLRR2')\n",
        "\n",
        "scripts.head()"
      ],
      "execution_count": null,
      "outputs": [
        {
          "output_type": "execute_result",
          "data": {
            "text/html": [
              "<div>\n",
              "<style scoped>\n",
              "    .dataframe tbody tr th:only-of-type {\n",
              "        vertical-align: middle;\n",
              "    }\n",
              "\n",
              "    .dataframe tbody tr th {\n",
              "        vertical-align: top;\n",
              "    }\n",
              "\n",
              "    .dataframe thead th {\n",
              "        text-align: right;\n",
              "    }\n",
              "</style>\n",
              "<table border=\"1\" class=\"dataframe\">\n",
              "  <thead>\n",
              "    <tr style=\"text-align: right;\">\n",
              "      <th></th>\n",
              "      <th>url</th>\n",
              "      <th>cast</th>\n",
              "      <th>dialog</th>\n",
              "      <th>timestamp</th>\n",
              "    </tr>\n",
              "  </thead>\n",
              "  <tbody>\n",
              "    <tr>\n",
              "      <th>0</th>\n",
              "      <td>http://www.kacl780.net/frasier/transcripts/sea...</td>\n",
              "      <td>Frasier</td>\n",
              "      <td>[firmly] Listen to yourself, Bob!  You follow ...</td>\n",
              "      <td>2018-04-13 07:43:16</td>\n",
              "    </tr>\n",
              "    <tr>\n",
              "      <th>1</th>\n",
              "      <td>http://www.kacl780.net/frasier/transcripts/sea...</td>\n",
              "      <td>Roz</td>\n",
              "      <td>Yes, Dr Crane.  On line four, we have Russell ...</td>\n",
              "      <td>2018-04-13 07:43:16</td>\n",
              "    </tr>\n",
              "    <tr>\n",
              "      <th>2</th>\n",
              "      <td>http://www.kacl780.net/frasier/transcripts/sea...</td>\n",
              "      <td>Frasier</td>\n",
              "      <td>[presses a button] Hello, Russell.  This is Dr...</td>\n",
              "      <td>2018-04-13 07:43:16</td>\n",
              "    </tr>\n",
              "    <tr>\n",
              "      <th>3</th>\n",
              "      <td>http://www.kacl780.net/frasier/transcripts/sea...</td>\n",
              "      <td>Russell</td>\n",
              "      <td>[v.o.] Well, I've been feeling sort of, uh, yo...</td>\n",
              "      <td>2018-04-13 07:43:16</td>\n",
              "    </tr>\n",
              "    <tr>\n",
              "      <th>4</th>\n",
              "      <td>http://www.kacl780.net/frasier/transcripts/sea...</td>\n",
              "      <td>Frasier</td>\n",
              "      <td>Er, Russell, we're just about at the end of ou...</td>\n",
              "      <td>2018-04-13 07:43:16</td>\n",
              "    </tr>\n",
              "  </tbody>\n",
              "</table>\n",
              "</div>"
            ],
            "text/plain": [
              "                                                 url  ...            timestamp\n",
              "0  http://www.kacl780.net/frasier/transcripts/sea...  ...  2018-04-13 07:43:16\n",
              "1  http://www.kacl780.net/frasier/transcripts/sea...  ...  2018-04-13 07:43:16\n",
              "2  http://www.kacl780.net/frasier/transcripts/sea...  ...  2018-04-13 07:43:16\n",
              "3  http://www.kacl780.net/frasier/transcripts/sea...  ...  2018-04-13 07:43:16\n",
              "4  http://www.kacl780.net/frasier/transcripts/sea...  ...  2018-04-13 07:43:16\n",
              "\n",
              "[5 rows x 4 columns]"
            ]
          },
          "metadata": {
            "tags": []
          },
          "execution_count": 2
        }
      ]
    },
    {
      "cell_type": "code",
      "metadata": {
        "id": "7QC46KC0Wxx2",
        "colab_type": "code",
        "colab": {}
      },
      "source": [
        "#ya know, i may not even need this csv.\n",
        "\n",
        "# the scripts csv turned out to be messier than i initially realized.\n",
        "# i am thinking that i can just make subsets of the charcters that i want to keep\n",
        "\n",
        "#episodes = pd.read_csv('episode.csv')"
      ],
      "execution_count": null,
      "outputs": []
    },
    {
      "cell_type": "code",
      "metadata": {
        "id": "lo6yB0nZakIO",
        "colab_type": "code",
        "colab": {
          "base_uri": "https://localhost:8080/",
          "height": 476
        },
        "outputId": "cd5b6f98-6e45-47b0-acdd-29a51f17552c"
      },
      "source": [
        "print(scripts.shape)\n",
        "scripts.head()"
      ],
      "execution_count": null,
      "outputs": [
        {
          "output_type": "stream",
          "text": [
            "(63945, 4)\n"
          ],
          "name": "stdout"
        },
        {
          "output_type": "execute_result",
          "data": {
            "text/html": [
              "<div>\n",
              "<style scoped>\n",
              "    .dataframe tbody tr th:only-of-type {\n",
              "        vertical-align: middle;\n",
              "    }\n",
              "\n",
              "    .dataframe tbody tr th {\n",
              "        vertical-align: top;\n",
              "    }\n",
              "\n",
              "    .dataframe thead th {\n",
              "        text-align: right;\n",
              "    }\n",
              "</style>\n",
              "<table border=\"1\" class=\"dataframe\">\n",
              "  <thead>\n",
              "    <tr style=\"text-align: right;\">\n",
              "      <th></th>\n",
              "      <th>url</th>\n",
              "      <th>cast</th>\n",
              "      <th>dialog</th>\n",
              "      <th>timestamp</th>\n",
              "    </tr>\n",
              "  </thead>\n",
              "  <tbody>\n",
              "    <tr>\n",
              "      <th>0</th>\n",
              "      <td>http://www.kacl780.net/frasier/transcripts/sea...</td>\n",
              "      <td>Frasier</td>\n",
              "      <td>[firmly] Listen to yourself, Bob!  You follow ...</td>\n",
              "      <td>2018-04-13 07:43:16</td>\n",
              "    </tr>\n",
              "    <tr>\n",
              "      <th>1</th>\n",
              "      <td>http://www.kacl780.net/frasier/transcripts/sea...</td>\n",
              "      <td>Roz</td>\n",
              "      <td>Yes, Dr Crane.  On line four, we have Russell ...</td>\n",
              "      <td>2018-04-13 07:43:16</td>\n",
              "    </tr>\n",
              "    <tr>\n",
              "      <th>2</th>\n",
              "      <td>http://www.kacl780.net/frasier/transcripts/sea...</td>\n",
              "      <td>Frasier</td>\n",
              "      <td>[presses a button] Hello, Russell.  This is Dr...</td>\n",
              "      <td>2018-04-13 07:43:16</td>\n",
              "    </tr>\n",
              "    <tr>\n",
              "      <th>3</th>\n",
              "      <td>http://www.kacl780.net/frasier/transcripts/sea...</td>\n",
              "      <td>Russell</td>\n",
              "      <td>[v.o.] Well, I've been feeling sort of, uh, yo...</td>\n",
              "      <td>2018-04-13 07:43:16</td>\n",
              "    </tr>\n",
              "    <tr>\n",
              "      <th>4</th>\n",
              "      <td>http://www.kacl780.net/frasier/transcripts/sea...</td>\n",
              "      <td>Frasier</td>\n",
              "      <td>Er, Russell, we're just about at the end of ou...</td>\n",
              "      <td>2018-04-13 07:43:16</td>\n",
              "    </tr>\n",
              "  </tbody>\n",
              "</table>\n",
              "</div>"
            ],
            "text/plain": [
              "                                                 url  ...            timestamp\n",
              "0  http://www.kacl780.net/frasier/transcripts/sea...  ...  2018-04-13 07:43:16\n",
              "1  http://www.kacl780.net/frasier/transcripts/sea...  ...  2018-04-13 07:43:16\n",
              "2  http://www.kacl780.net/frasier/transcripts/sea...  ...  2018-04-13 07:43:16\n",
              "3  http://www.kacl780.net/frasier/transcripts/sea...  ...  2018-04-13 07:43:16\n",
              "4  http://www.kacl780.net/frasier/transcripts/sea...  ...  2018-04-13 07:43:16\n",
              "\n",
              "[5 rows x 4 columns]"
            ]
          },
          "metadata": {
            "tags": []
          },
          "execution_count": 4
        }
      ]
    },
    {
      "cell_type": "code",
      "metadata": {
        "id": "Y4Ib4NjmAvyA",
        "colab_type": "code",
        "colab": {}
      },
      "source": [
        "#trimming down the df\n",
        "\n",
        "copy_df = scripts.drop(['url', 'timestamp'], axis=1)"
      ],
      "execution_count": null,
      "outputs": []
    },
    {
      "cell_type": "code",
      "metadata": {
        "id": "PxxHFylXAvvB",
        "colab_type": "code",
        "colab": {
          "base_uri": "https://localhost:8080/",
          "height": 204
        },
        "outputId": "a248e0d0-0f26-49f8-8d81-8c9bda921c4d"
      },
      "source": [
        "copy_df.head()"
      ],
      "execution_count": null,
      "outputs": [
        {
          "output_type": "execute_result",
          "data": {
            "text/html": [
              "<div>\n",
              "<style scoped>\n",
              "    .dataframe tbody tr th:only-of-type {\n",
              "        vertical-align: middle;\n",
              "    }\n",
              "\n",
              "    .dataframe tbody tr th {\n",
              "        vertical-align: top;\n",
              "    }\n",
              "\n",
              "    .dataframe thead th {\n",
              "        text-align: right;\n",
              "    }\n",
              "</style>\n",
              "<table border=\"1\" class=\"dataframe\">\n",
              "  <thead>\n",
              "    <tr style=\"text-align: right;\">\n",
              "      <th></th>\n",
              "      <th>cast</th>\n",
              "      <th>dialog</th>\n",
              "    </tr>\n",
              "  </thead>\n",
              "  <tbody>\n",
              "    <tr>\n",
              "      <th>0</th>\n",
              "      <td>Frasier</td>\n",
              "      <td>[firmly] Listen to yourself, Bob!  You follow ...</td>\n",
              "    </tr>\n",
              "    <tr>\n",
              "      <th>1</th>\n",
              "      <td>Roz</td>\n",
              "      <td>Yes, Dr Crane.  On line four, we have Russell ...</td>\n",
              "    </tr>\n",
              "    <tr>\n",
              "      <th>2</th>\n",
              "      <td>Frasier</td>\n",
              "      <td>[presses a button] Hello, Russell.  This is Dr...</td>\n",
              "    </tr>\n",
              "    <tr>\n",
              "      <th>3</th>\n",
              "      <td>Russell</td>\n",
              "      <td>[v.o.] Well, I've been feeling sort of, uh, yo...</td>\n",
              "    </tr>\n",
              "    <tr>\n",
              "      <th>4</th>\n",
              "      <td>Frasier</td>\n",
              "      <td>Er, Russell, we're just about at the end of ou...</td>\n",
              "    </tr>\n",
              "  </tbody>\n",
              "</table>\n",
              "</div>"
            ],
            "text/plain": [
              "      cast                                             dialog\n",
              "0  Frasier  [firmly] Listen to yourself, Bob!  You follow ...\n",
              "1      Roz  Yes, Dr Crane.  On line four, we have Russell ...\n",
              "2  Frasier  [presses a button] Hello, Russell.  This is Dr...\n",
              "3  Russell  [v.o.] Well, I've been feeling sort of, uh, yo...\n",
              "4  Frasier  Er, Russell, we're just about at the end of ou..."
            ]
          },
          "metadata": {
            "tags": []
          },
          "execution_count": 8
        }
      ]
    },
    {
      "cell_type": "code",
      "metadata": {
        "id": "pSA_FaOuAvsW",
        "colab_type": "code",
        "colab": {}
      },
      "source": [
        "#\n",
        "copy_df['cast'].value_counts()"
      ],
      "execution_count": null,
      "outputs": []
    },
    {
      "cell_type": "code",
      "metadata": {
        "id": "z1_Xj3zHBiJG",
        "colab_type": "code",
        "colab": {
          "base_uri": "https://localhost:8080/",
          "height": 85
        },
        "outputId": "240a6adc-e16b-4413-ab0b-6f5fd5d79d88"
      },
      "source": [
        "copy_df.isnull().sum()"
      ],
      "execution_count": null,
      "outputs": [
        {
          "output_type": "execute_result",
          "data": {
            "text/plain": [
              "cast                2\n",
              "dialog            157\n",
              "Frasier_dialog      0\n",
              "dtype: int64"
            ]
          },
          "metadata": {
            "tags": []
          },
          "execution_count": 13
        }
      ]
    },
    {
      "cell_type": "code",
      "metadata": {
        "id": "mTqYbohGBiEQ",
        "colab_type": "code",
        "colab": {}
      },
      "source": [
        "#drop na rows\n",
        "copy_df = copy_df.dropna()"
      ],
      "execution_count": null,
      "outputs": []
    },
    {
      "cell_type": "code",
      "metadata": {
        "id": "_j63KT7ye_YG",
        "colab_type": "code",
        "colab": {}
      },
      "source": [
        "#take out CUT TO \n",
        "#first 5 rows are our main cast\n"
      ],
      "execution_count": null,
      "outputs": []
    },
    {
      "cell_type": "code",
      "metadata": {
        "id": "gVfDhOc9r6fj",
        "colab_type": "code",
        "colab": {}
      },
      "source": [
        "#subsets\n",
        "\n",
        "dropped_scripts = copy_df['cast'].value_counts(normalize=True, ascending=False)"
      ],
      "execution_count": null,
      "outputs": []
    },
    {
      "cell_type": "code",
      "metadata": {
        "id": "Jyb2AMkrr6l8",
        "colab_type": "code",
        "colab": {}
      },
      "source": [
        "main_cast = dropped_scripts[:5]"
      ],
      "execution_count": null,
      "outputs": []
    },
    {
      "cell_type": "code",
      "metadata": {
        "id": "xB-v3Vzwr6kW",
        "colab_type": "code",
        "colab": {
          "base_uri": "https://localhost:8080/",
          "height": 119
        },
        "outputId": "27d928b2-bd13-4ed3-e1ec-92cfbb7e370d"
      },
      "source": [
        "main_cast"
      ],
      "execution_count": null,
      "outputs": [
        {
          "output_type": "execute_result",
          "data": {
            "text/plain": [
              "Frasier    0.330595\n",
              "Niles      0.159560\n",
              "Martin     0.119599\n",
              "Daphne     0.082194\n",
              "Roz        0.074230\n",
              "Name: cast, dtype: float64"
            ]
          },
          "metadata": {
            "tags": []
          },
          "execution_count": 7
        }
      ]
    },
    {
      "cell_type": "code",
      "metadata": {
        "id": "pFN1qG6p3-7H",
        "colab_type": "code",
        "colab": {
          "base_uri": "https://localhost:8080/",
          "height": 119
        },
        "outputId": "e5b80caf-eecc-487c-8461-ceb68298f3cb"
      },
      "source": [
        "main_cast.round(3)"
      ],
      "execution_count": null,
      "outputs": [
        {
          "output_type": "execute_result",
          "data": {
            "text/plain": [
              "Frasier    0.331\n",
              "Niles      0.160\n",
              "Martin     0.120\n",
              "Daphne     0.082\n",
              "Roz        0.074\n",
              "Name: cast, dtype: float64"
            ]
          },
          "metadata": {
            "tags": []
          },
          "execution_count": 8
        }
      ]
    },
    {
      "cell_type": "code",
      "metadata": {
        "id": "x8vEfGDFdcah",
        "colab_type": "code",
        "colab": {
          "base_uri": "https://localhost:8080/",
          "height": 119
        },
        "outputId": "5295b386-f6c4-49e3-c9e7-89b1f2fe4892"
      },
      "source": [
        "dropped_scripts.head()"
      ],
      "execution_count": null,
      "outputs": [
        {
          "output_type": "execute_result",
          "data": {
            "text/plain": [
              "Frasier    0.330595\n",
              "Niles      0.159560\n",
              "Martin     0.119599\n",
              "Daphne     0.082194\n",
              "Roz        0.074230\n",
              "Name: cast, dtype: float64"
            ]
          },
          "metadata": {
            "tags": []
          },
          "execution_count": 9
        }
      ]
    },
    {
      "cell_type": "code",
      "metadata": {
        "id": "3f4sslNA42Ao",
        "colab_type": "code",
        "colab": {
          "base_uri": "https://localhost:8080/",
          "height": 288
        },
        "outputId": "be57003a-ecb5-45b3-bd2d-f40258325203"
      },
      "source": [
        "import matplotlib.pyplot as plt\n",
        "import seaborn as sns\n",
        "\n",
        "\n",
        "\n",
        "# The slices will be ordered and plotted counter-clockwise.\n",
        "# input by hand since there are only 5 varibles\n",
        "\n",
        "\n",
        "labels = 'Frasier', 'Niles', 'Martin', 'Daphne', 'Roz', 'Side Characters'\n",
        "sizes = [ 0.330, 0.159,  0.119, 0.082, 0.074, .236]\n",
        "\n",
        "#chose a wine color scheme, the characters are constanly drinking wine\n",
        "colors = ['#3c191d',  '#4e2026', '#722f37', '#72322f', '#72382f', '#4C4C4C']\n",
        "explode = (0, 0, 0, 0, 0, 0)  # explode a slice if required\n",
        "\n",
        "\n",
        "plt.rcParams['font.size'] = 13\n",
        "\n",
        "plt.pie(sizes, explode=explode, labels=labels, colors=colors, \n",
        "        autopct='%1.1f%%', textprops={'color':\"black\"}, shadow=False)\n",
        "\n",
        "\n",
        "\n",
        "#draw a circle at the center of pie to make it look like a donut\n",
        "#cheating :)\n",
        "centre_circle = plt.Circle((0,0),0.65,color='#35383B', fc='#808080',linewidth=1.50)\n",
        "fig = plt.gcf()\n",
        "fig.gca().add_artist(centre_circle)\n",
        "\n",
        "plt.suptitle('Percentage of Lines Throughout Show ', x=.55, y=1, fontsize=19)\n",
        "plt.title('11 Seasons', fontsize=12)\n",
        "# Set aspect ratio to be equal so that pie is drawn as a circle.\n",
        "plt.axis('equal')\n",
        "plt.show() "
      ],
      "execution_count": null,
      "outputs": [
        {
          "output_type": "display_data",
          "data": {
            "image/png": "[encoded data removed]",
            "text/plain": [
              "<Figure size 432x288 with 1 Axes>"
            ]
          },
          "metadata": {
            "tags": []
          }
        }
      ]
    },
    {
      "cell_type": "code",
      "metadata": {
        "id": "t7E0XXCcayZ0",
        "colab_type": "code",
        "colab": {
          "base_uri": "https://localhost:8080/",
          "height": 204
        },
        "outputId": "539731aa-03b4-47d2-ffdd-a292e216a479"
      },
      "source": [
        "#isolate just one character's dialog\n",
        "\n",
        "copy_df['Frasier_dialog'] = copy_df['cast'] == 'Frasier'\n",
        "\n",
        "copy_df.head()"
      ],
      "execution_count": null,
      "outputs": [
        {
          "output_type": "execute_result",
          "data": {
            "text/html": [
              "<div>\n",
              "<style scoped>\n",
              "    .dataframe tbody tr th:only-of-type {\n",
              "        vertical-align: middle;\n",
              "    }\n",
              "\n",
              "    .dataframe tbody tr th {\n",
              "        vertical-align: top;\n",
              "    }\n",
              "\n",
              "    .dataframe thead th {\n",
              "        text-align: right;\n",
              "    }\n",
              "</style>\n",
              "<table border=\"1\" class=\"dataframe\">\n",
              "  <thead>\n",
              "    <tr style=\"text-align: right;\">\n",
              "      <th></th>\n",
              "      <th>cast</th>\n",
              "      <th>dialog</th>\n",
              "      <th>Frasier_dialog</th>\n",
              "    </tr>\n",
              "  </thead>\n",
              "  <tbody>\n",
              "    <tr>\n",
              "      <th>0</th>\n",
              "      <td>Frasier</td>\n",
              "      <td>[firmly] Listen to yourself, Bob!  You follow ...</td>\n",
              "      <td>True</td>\n",
              "    </tr>\n",
              "    <tr>\n",
              "      <th>1</th>\n",
              "      <td>Roz</td>\n",
              "      <td>Yes, Dr Crane.  On line four, we have Russell ...</td>\n",
              "      <td>False</td>\n",
              "    </tr>\n",
              "    <tr>\n",
              "      <th>2</th>\n",
              "      <td>Frasier</td>\n",
              "      <td>[presses a button] Hello, Russell.  This is Dr...</td>\n",
              "      <td>True</td>\n",
              "    </tr>\n",
              "    <tr>\n",
              "      <th>3</th>\n",
              "      <td>Russell</td>\n",
              "      <td>[v.o.] Well, I've been feeling sort of, uh, yo...</td>\n",
              "      <td>False</td>\n",
              "    </tr>\n",
              "    <tr>\n",
              "      <th>4</th>\n",
              "      <td>Frasier</td>\n",
              "      <td>Er, Russell, we're just about at the end of ou...</td>\n",
              "      <td>True</td>\n",
              "    </tr>\n",
              "  </tbody>\n",
              "</table>\n",
              "</div>"
            ],
            "text/plain": [
              "      cast                                             dialog  Frasier_dialog\n",
              "0  Frasier  [firmly] Listen to yourself, Bob!  You follow ...            True\n",
              "1      Roz  Yes, Dr Crane.  On line four, we have Russell ...           False\n",
              "2  Frasier  [presses a button] Hello, Russell.  This is Dr...            True\n",
              "3  Russell  [v.o.] Well, I've been feeling sort of, uh, yo...           False\n",
              "4  Frasier  Er, Russell, we're just about at the end of ou...            True"
            ]
          },
          "metadata": {
            "tags": []
          },
          "execution_count": 11
        }
      ]
    },
    {
      "cell_type": "code",
      "metadata": {
        "id": "laiYIyiuGigl",
        "colab_type": "code",
        "colab": {
          "base_uri": "https://localhost:8080/",
          "height": 204
        },
        "outputId": "bf1b4f24-badc-4af6-a7a2-18cb70ce5bce"
      },
      "source": [
        "lines = copy_df['cast'].value_counts(ascending=False)\n",
        "\n",
        "lines.head(10)"
      ],
      "execution_count": null,
      "outputs": [
        {
          "output_type": "execute_result",
          "data": {
            "text/plain": [
              "Frasier    21088\n",
              "Niles      10178\n",
              "Martin      7629\n",
              "Daphne      5243\n",
              "Roz         4735\n",
              "Bulldog      664\n",
              "Lilith       516\n",
              "Kenny        449\n",
              "Bebe         381\n",
              "Donny        265\n",
              "Name: cast, dtype: int64"
            ]
          },
          "metadata": {
            "tags": []
          },
          "execution_count": 27
        }
      ]
    },
    {
      "cell_type": "code",
      "metadata": {
        "id": "2qiI7hAcP18U",
        "colab_type": "code",
        "colab": {
          "base_uri": "https://localhost:8080/",
          "height": 376
        },
        "outputId": "8566ac20-67f3-4f00-a1c5-334eac37c4e9"
      },
      "source": [
        "frasier = copy_df[copy_df['Frasier_dialog'] == True]\n",
        "\n",
        "print(frasier.shape)\n",
        "frasier.head(10)"
      ],
      "execution_count": null,
      "outputs": [
        {
          "output_type": "stream",
          "text": [
            "(21088, 3)\n"
          ],
          "name": "stdout"
        },
        {
          "output_type": "execute_result",
          "data": {
            "text/html": [
              "<div>\n",
              "<style scoped>\n",
              "    .dataframe tbody tr th:only-of-type {\n",
              "        vertical-align: middle;\n",
              "    }\n",
              "\n",
              "    .dataframe tbody tr th {\n",
              "        vertical-align: top;\n",
              "    }\n",
              "\n",
              "    .dataframe thead th {\n",
              "        text-align: right;\n",
              "    }\n",
              "</style>\n",
              "<table border=\"1\" class=\"dataframe\">\n",
              "  <thead>\n",
              "    <tr style=\"text-align: right;\">\n",
              "      <th></th>\n",
              "      <th>cast</th>\n",
              "      <th>dialog</th>\n",
              "      <th>Frasier_dialog</th>\n",
              "    </tr>\n",
              "  </thead>\n",
              "  <tbody>\n",
              "    <tr>\n",
              "      <th>0</th>\n",
              "      <td>Frasier</td>\n",
              "      <td>[firmly] Listen to yourself, Bob!  You follow ...</td>\n",
              "      <td>True</td>\n",
              "    </tr>\n",
              "    <tr>\n",
              "      <th>2</th>\n",
              "      <td>Frasier</td>\n",
              "      <td>[presses a button] Hello, Russell.  This is Dr...</td>\n",
              "      <td>True</td>\n",
              "    </tr>\n",
              "    <tr>\n",
              "      <th>4</th>\n",
              "      <td>Frasier</td>\n",
              "      <td>Er, Russell, we're just about at the end of ou...</td>\n",
              "      <td>True</td>\n",
              "    </tr>\n",
              "    <tr>\n",
              "      <th>6</th>\n",
              "      <td>Frasier</td>\n",
              "      <td>[annoyed; rips off his headphones] Oh, for cry...</td>\n",
              "      <td>True</td>\n",
              "    </tr>\n",
              "    <tr>\n",
              "      <th>7</th>\n",
              "      <td>Frasier</td>\n",
              "      <td>Well, the rest of the show was pretty good. [R...</td>\n",
              "      <td>True</td>\n",
              "    </tr>\n",
              "    <tr>\n",
              "      <th>9</th>\n",
              "      <td>Frasier</td>\n",
              "      <td>Roz, in the trade we call that \"avoidance.\"  D...</td>\n",
              "      <td>True</td>\n",
              "    </tr>\n",
              "    <tr>\n",
              "      <th>11</th>\n",
              "      <td>Frasier</td>\n",
              "      <td>I am not a piece of Lalique.  I can handle cri...</td>\n",
              "      <td>True</td>\n",
              "    </tr>\n",
              "    <tr>\n",
              "      <th>13</th>\n",
              "      <td>Frasier</td>\n",
              "      <td>[takes the notepaper] You say my brother calle...</td>\n",
              "      <td>True</td>\n",
              "    </tr>\n",
              "    <tr>\n",
              "      <th>17</th>\n",
              "      <td>Frasier</td>\n",
              "      <td>[looks up] Oh, I'm sorry, Niles, I didn't real...</td>\n",
              "      <td>True</td>\n",
              "    </tr>\n",
              "    <tr>\n",
              "      <th>19</th>\n",
              "      <td>Frasier</td>\n",
              "      <td>Oh Niles, you're a psychiatrist - you know wha...</td>\n",
              "      <td>True</td>\n",
              "    </tr>\n",
              "  </tbody>\n",
              "</table>\n",
              "</div>"
            ],
            "text/plain": [
              "       cast                                             dialog  Frasier_dialog\n",
              "0   Frasier  [firmly] Listen to yourself, Bob!  You follow ...            True\n",
              "2   Frasier  [presses a button] Hello, Russell.  This is Dr...            True\n",
              "4   Frasier  Er, Russell, we're just about at the end of ou...            True\n",
              "6   Frasier  [annoyed; rips off his headphones] Oh, for cry...            True\n",
              "7   Frasier  Well, the rest of the show was pretty good. [R...            True\n",
              "9   Frasier  Roz, in the trade we call that \"avoidance.\"  D...            True\n",
              "11  Frasier  I am not a piece of Lalique.  I can handle cri...            True\n",
              "13  Frasier  [takes the notepaper] You say my brother calle...            True\n",
              "17  Frasier  [looks up] Oh, I'm sorry, Niles, I didn't real...            True\n",
              "19  Frasier  Oh Niles, you're a psychiatrist - you know wha...            True"
            ]
          },
          "metadata": {
            "tags": []
          },
          "execution_count": 12
        }
      ]
    },
    {
      "cell_type": "code",
      "metadata": {
        "id": "ousFDUnMS9UY",
        "colab_type": "code",
        "colab": {}
      },
      "source": [
        "import numpy as np\n",
        "import pandas as pd\n",
        "from os import path\n",
        "from PIL import Image\n",
        "from wordcloud import WordCloud, STOPWORDS, ImageColorGenerator\n",
        "\n",
        "import matplotlib.pyplot as plt\n",
        "% matplotlib inline"
      ],
      "execution_count": null,
      "outputs": []
    },
    {
      "cell_type": "code",
      "metadata": {
        "id": "Seya7H2KToFe",
        "colab_type": "code",
        "colab": {
          "base_uri": "https://localhost:8080/",
          "height": 289
        },
        "outputId": "57f8ec9c-17de-4771-9de0-c84e59d83572"
      },
      "source": [
        "frasier.head()"
      ],
      "execution_count": null,
      "outputs": [
        {
          "output_type": "execute_result",
          "data": {
            "text/html": [
              "<div>\n",
              "<style scoped>\n",
              "    .dataframe tbody tr th:only-of-type {\n",
              "        vertical-align: middle;\n",
              "    }\n",
              "\n",
              "    .dataframe tbody tr th {\n",
              "        vertical-align: top;\n",
              "    }\n",
              "\n",
              "    .dataframe thead th {\n",
              "        text-align: right;\n",
              "    }\n",
              "</style>\n",
              "<table border=\"1\" class=\"dataframe\">\n",
              "  <thead>\n",
              "    <tr style=\"text-align: right;\">\n",
              "      <th></th>\n",
              "      <th>cast</th>\n",
              "      <th>dialog</th>\n",
              "      <th>timestamp</th>\n",
              "      <th>Frasier_dialog</th>\n",
              "    </tr>\n",
              "  </thead>\n",
              "  <tbody>\n",
              "    <tr>\n",
              "      <th>0</th>\n",
              "      <td>Frasier</td>\n",
              "      <td>[firmly] Listen to yourself, Bob!  You follow ...</td>\n",
              "      <td>2018-04-13 07:43:16</td>\n",
              "      <td>True</td>\n",
              "    </tr>\n",
              "    <tr>\n",
              "      <th>2</th>\n",
              "      <td>Frasier</td>\n",
              "      <td>[presses a button] Hello, Russell.  This is Dr...</td>\n",
              "      <td>2018-04-13 07:43:16</td>\n",
              "      <td>True</td>\n",
              "    </tr>\n",
              "    <tr>\n",
              "      <th>4</th>\n",
              "      <td>Frasier</td>\n",
              "      <td>Er, Russell, we're just about at the end of ou...</td>\n",
              "      <td>2018-04-13 07:43:16</td>\n",
              "      <td>True</td>\n",
              "    </tr>\n",
              "    <tr>\n",
              "      <th>6</th>\n",
              "      <td>Frasier</td>\n",
              "      <td>[annoyed; rips off his headphones] Oh, for cry...</td>\n",
              "      <td>2018-04-13 07:43:16</td>\n",
              "      <td>True</td>\n",
              "    </tr>\n",
              "    <tr>\n",
              "      <th>7</th>\n",
              "      <td>Frasier</td>\n",
              "      <td>Well, the rest of the show was pretty good. [R...</td>\n",
              "      <td>2018-04-13 07:43:16</td>\n",
              "      <td>True</td>\n",
              "    </tr>\n",
              "  </tbody>\n",
              "</table>\n",
              "</div>"
            ],
            "text/plain": [
              "      cast  ... Frasier_dialog\n",
              "0  Frasier  ...           True\n",
              "2  Frasier  ...           True\n",
              "4  Frasier  ...           True\n",
              "6  Frasier  ...           True\n",
              "7  Frasier  ...           True\n",
              "\n",
              "[5 rows x 4 columns]"
            ]
          },
          "metadata": {
            "tags": []
          },
          "execution_count": 54
        }
      ]
    },
    {
      "cell_type": "code",
      "metadata": {
        "id": "yc1MO9b6UPhp",
        "colab_type": "code",
        "colab": {}
      },
      "source": [
        "text_f = frasier.dialog[0]\n"
      ],
      "execution_count": null,
      "outputs": []
    },
    {
      "cell_type": "code",
      "metadata": {
        "id": "0b6PrmqZUoQY",
        "colab_type": "code",
        "colab": {}
      },
      "source": [
        "wordcloud = WordCloud(colormap='bone',\n",
        "background_color=\"black\").generate(text_f)\n",
        "\n"
      ],
      "execution_count": null,
      "outputs": []
    },
    {
      "cell_type": "code",
      "metadata": {
        "id": "vAkEKqXOUqTl",
        "colab_type": "code",
        "colab": {
          "base_uri": "https://localhost:8080/",
          "height": 198
        },
        "outputId": "09b42edd-2a9a-4904-e8f0-bb6b8dfa34d7"
      },
      "source": [
        "plt.imshow(wordcloud, interpolation='bilinear')\n",
        "plt.axis(\"off\")\n",
        "plt.show()"
      ],
      "execution_count": null,
      "outputs": [
        {
          "output_type": "display_data",
          "data": {
            "image/png": "[encoded data removed]",
            "text/plain": [
              "<Figure size 432x288 with 1 Axes>"
            ]
          },
          "metadata": {
            "tags": []
          }
        }
      ]
    },
    {
      "cell_type": "code",
      "metadata": {
        "id": "PTH6JMhJEuej",
        "colab_type": "code",
        "colab": {
          "base_uri": "https://localhost:8080/",
          "height": 34
        },
        "outputId": "8a3669af-063c-482c-f914-053e738ecb77"
      },
      "source": [
        "text = \" \".join(words for words in frasier.dialog)\n",
        "print (\"There are {} words in the Frasier dialog column.\".format(len(text)))\n"
      ],
      "execution_count": null,
      "outputs": [
        {
          "output_type": "stream",
          "text": [
            "There are 1593362 words in the Frasier dialog column.\n"
          ],
          "name": "stdout"
        }
      ]
    },
    {
      "cell_type": "code",
      "metadata": {
        "id": "nKTCKFmFGpCr",
        "colab_type": "code",
        "colab": {
          "base_uri": "https://localhost:8080/",
          "height": 210
        },
        "outputId": "03b7e960-c34c-46d7-ccae-5fc002bb6a1e"
      },
      "source": [
        "scripts_clean.describe()"
      ],
      "execution_count": null,
      "outputs": [
        {
          "output_type": "execute_result",
          "data": {
            "text/html": [
              "<div>\n",
              "<style scoped>\n",
              "    .dataframe tbody tr th:only-of-type {\n",
              "        vertical-align: middle;\n",
              "    }\n",
              "\n",
              "    .dataframe tbody tr th {\n",
              "        vertical-align: top;\n",
              "    }\n",
              "\n",
              "    .dataframe thead th {\n",
              "        text-align: right;\n",
              "    }\n",
              "</style>\n",
              "<table border=\"1\" class=\"dataframe\">\n",
              "  <thead>\n",
              "    <tr style=\"text-align: right;\">\n",
              "      <th></th>\n",
              "      <th>cast</th>\n",
              "      <th>dialog</th>\n",
              "      <th>timestamp</th>\n",
              "      <th>Frasier_dialog</th>\n",
              "      <th>Roz_dialog</th>\n",
              "      <th>Niles_dialog</th>\n",
              "      <th>Daphne_dialog</th>\n",
              "      <th>Martin_dialog</th>\n",
              "    </tr>\n",
              "  </thead>\n",
              "  <tbody>\n",
              "    <tr>\n",
              "      <th>count</th>\n",
              "      <td>63788</td>\n",
              "      <td>63788</td>\n",
              "      <td>63788</td>\n",
              "      <td>63788</td>\n",
              "      <td>63788</td>\n",
              "      <td>63788</td>\n",
              "      <td>63788</td>\n",
              "      <td>63788</td>\n",
              "    </tr>\n",
              "    <tr>\n",
              "      <th>unique</th>\n",
              "      <td>1605</td>\n",
              "      <td>58435</td>\n",
              "      <td>310</td>\n",
              "      <td>2</td>\n",
              "      <td>2</td>\n",
              "      <td>2</td>\n",
              "      <td>2</td>\n",
              "      <td>2</td>\n",
              "    </tr>\n",
              "    <tr>\n",
              "      <th>top</th>\n",
              "      <td>Frasier</td>\n",
              "      <td>What?</td>\n",
              "      <td>2018-04-13 22:13:29</td>\n",
              "      <td>False</td>\n",
              "      <td>False</td>\n",
              "      <td>False</td>\n",
              "      <td>False</td>\n",
              "      <td>False</td>\n",
              "    </tr>\n",
              "    <tr>\n",
              "      <th>freq</th>\n",
              "      <td>21088</td>\n",
              "      <td>226</td>\n",
              "      <td>338</td>\n",
              "      <td>42700</td>\n",
              "      <td>59053</td>\n",
              "      <td>53610</td>\n",
              "      <td>58545</td>\n",
              "      <td>56159</td>\n",
              "    </tr>\n",
              "  </tbody>\n",
              "</table>\n",
              "</div>"
            ],
            "text/plain": [
              "           cast dialog  ... Daphne_dialog Martin_dialog\n",
              "count     63788  63788  ...         63788         63788\n",
              "unique     1605  58435  ...             2             2\n",
              "top     Frasier  What?  ...         False         False\n",
              "freq      21088    226  ...         58545         56159\n",
              "\n",
              "[4 rows x 8 columns]"
            ]
          },
          "metadata": {
            "tags": []
          },
          "execution_count": 128
        }
      ]
    },
    {
      "cell_type": "code",
      "metadata": {
        "id": "zPyCEn5LzwK7",
        "colab_type": "code",
        "colab": {
          "base_uri": "https://localhost:8080/",
          "height": 164
        },
        "outputId": "4ba7bad2-6572-47e2-a3c4-da942f4d18af"
      },
      "source": [
        "scripts_clean['dialog'].value_counts(ascending=True)"
      ],
      "execution_count": null,
      "outputs": [
        {
          "output_type": "error",
          "ename": "NameError",
          "evalue": "ignored",
          "traceback": [
            "\u001b[0;31m---------------------------------------------------------------------------\u001b[0m",
            "\u001b[0;31mNameError\u001b[0m                                 Traceback (most recent call last)",
            "\u001b[0;32m<ipython-input-21-34178ddc24b5>\u001b[0m in \u001b[0;36m<module>\u001b[0;34m()\u001b[0m\n\u001b[0;32m----> 1\u001b[0;31m \u001b[0mscripts_clean\u001b[0m\u001b[0;34m[\u001b[0m\u001b[0;34m'dialog'\u001b[0m\u001b[0;34m]\u001b[0m\u001b[0;34m.\u001b[0m\u001b[0mvalue_counts\u001b[0m\u001b[0;34m(\u001b[0m\u001b[0mascending\u001b[0m\u001b[0;34m=\u001b[0m\u001b[0;32mTrue\u001b[0m\u001b[0;34m)\u001b[0m\u001b[0;34m\u001b[0m\u001b[0;34m\u001b[0m\u001b[0m\n\u001b[0m",
            "\u001b[0;31mNameError\u001b[0m: name 'scripts_clean' is not defined"
          ]
        }
      ]
    },
    {
      "cell_type": "code",
      "metadata": {
        "id": "exiACxo-FxUF",
        "colab_type": "code",
        "colab": {
          "base_uri": "https://localhost:8080/",
          "height": 85
        },
        "outputId": "30e9d011-c21b-4114-b46f-eba89f6722f7"
      },
      "source": [
        "copy_df.isnull().sum()"
      ],
      "execution_count": null,
      "outputs": [
        {
          "output_type": "execute_result",
          "data": {
            "text/plain": [
              "cast           2\n",
              "dialog       157\n",
              "timestamp      0\n",
              "dtype: int64"
            ]
          },
          "metadata": {
            "tags": []
          },
          "execution_count": 38
        }
      ]
    },
    {
      "cell_type": "code",
      "metadata": {
        "id": "P4Zutso3F0sv",
        "colab_type": "code",
        "colab": {
          "base_uri": "https://localhost:8080/",
          "height": 85
        },
        "outputId": "fc991abd-bc55-4f8f-b656-20719d837e83"
      },
      "source": [
        "copy_df = copy_df.dropna()\n",
        "\n",
        "print(copy_df.isnull().sum())"
      ],
      "execution_count": null,
      "outputs": [
        {
          "output_type": "stream",
          "text": [
            "cast         0\n",
            "dialog       0\n",
            "timestamp    0\n",
            "dtype: int64\n"
          ],
          "name": "stdout"
        }
      ]
    },
    {
      "cell_type": "code",
      "metadata": {
        "id": "oIiEotzeGuwD",
        "colab_type": "code",
        "colab": {
          "base_uri": "https://localhost:8080/",
          "height": 34
        },
        "outputId": "90fb3ad4-c6c0-41f1-a122-90ceb1936812"
      },
      "source": [
        "#treemap \n",
        "\n",
        "pip install squarify"
      ],
      "execution_count": null,
      "outputs": [
        {
          "output_type": "stream",
          "text": [
            "Requirement already satisfied: squarify in /usr/local/lib/python3.6/dist-packages (0.4.3)\n"
          ],
          "name": "stdout"
        }
      ]
    },
    {
      "cell_type": "code",
      "metadata": {
        "id": "ORi7Nu_DJTBV",
        "colab_type": "code",
        "colab": {}
      },
      "source": [
        "import squarify"
      ],
      "execution_count": null,
      "outputs": []
    },
    {
      "cell_type": "code",
      "metadata": {
        "id": "bEnr3GGiHE1J",
        "colab_type": "code",
        "colab": {
          "base_uri": "https://localhost:8080/",
          "height": 289
        },
        "outputId": "a8cbf829-7b92-41fa-fb32-0ee0a06a328a"
      },
      "source": [
        "#again since it was such a small set, i just did it manually\n",
        "\n",
        "squarify.plot(sizes=[0.330, 0.159,  0.119, 0.082, 0.074], \n",
        "label=['Frasier', 'Niles', 'Martin', 'Daphne', 'Roz'],\n",
        "color=['#3c191d',  '#4e2026', '#722f37', '#72322f', '#72382f'],\n",
        "alpha=.6, text_kwargs={'fontsize':15}, ) \n",
        "\n",
        "plt.title('Main Cast', fontsize=20, )\n",
        "plt.axis('off')\n",
        "plt.show()"
      ],
      "execution_count": null,
      "outputs": [
        {
          "output_type": "display_data",
          "data": {
            "image/png": "[encoded data removed]",
            "text/plain": [
              "<Figure size 432x288 with 1 Axes>"
            ]
          },
          "metadata": {
            "tags": []
          }
        }
      ]
    },
    {
      "cell_type": "code",
      "metadata": {
        "id": "WtDvDsusVYcH",
        "colab_type": "code",
        "colab": {}
      },
      "source": [
        "#how many times the rain is mentioned\n",
        "#thought i was going to do something with this...\n",
        "\n",
        "sub = 'rain'"
      ],
      "execution_count": null,
      "outputs": []
    },
    {
      "cell_type": "code",
      "metadata": {
        "id": "oXiUbQiIppsE",
        "colab_type": "code",
        "colab": {}
      },
      "source": [
        "copy_df['rainy'] = copy_df['dialog'].str.find(sub)"
      ],
      "execution_count": null,
      "outputs": []
    },
    {
      "cell_type": "code",
      "metadata": {
        "id": "G7_QTkzLp6-O",
        "colab_type": "code",
        "colab": {}
      },
      "source": [
        "copy_df.head(10)"
      ],
      "execution_count": null,
      "outputs": []
    },
    {
      "cell_type": "code",
      "metadata": {
        "id": "H9EEiQq5p-gW",
        "colab_type": "code",
        "colab": {
          "base_uri": "https://localhost:8080/",
          "height": 34
        },
        "outputId": "959c4514-2d42-4722-de29-5c0848164230"
      },
      "source": [
        "copy_df['rainy'].mean()"
      ],
      "execution_count": null,
      "outputs": [
        {
          "output_type": "execute_result",
          "data": {
            "text/plain": [
              "-0.6688248573399386"
            ]
          },
          "metadata": {
            "tags": []
          },
          "execution_count": 46
        }
      ]
    },
    {
      "cell_type": "code",
      "metadata": {
        "id": "Dox-iv7dvsSb",
        "colab_type": "code",
        "colab": {}
      },
      "source": [
        "#top 10 characters dialog in a bar graph"
      ],
      "execution_count": null,
      "outputs": []
    },
    {
      "cell_type": "code",
      "metadata": {
        "id": "-5CgmFqPqK_U",
        "colab_type": "code",
        "colab": {
          "base_uri": "https://localhost:8080/",
          "height": 359
        },
        "outputId": "38f458ac-e9fc-4329-c8f0-fbeff5eea5c6"
      },
      "source": [
        "main_ish_cast_count = copy_df['cast'].value_counts()\n",
        "main_ish_cast_count = main_ish_cast_count[:10,]\n",
        "\n",
        "plt.figure(figsize=(10,5))\n",
        "sns.set(rc={'axes.facecolor':'grey', 'figure.facecolor': 'grey'})\n",
        "\n",
        "sns.barplot(main_ish_cast_count.index, main_ish_cast_count.values, \n",
        "            alpha=0.8, palette='Reds_d'\n",
        ")\n",
        "\n",
        "plt.title('Domination of Dialog', color='white', fontsize=17)\n",
        "plt.ylabel('Amount of Lines', color='white', fontsize=12)\n",
        "plt.yticks([])\n",
        "plt.xlabel('Character', color='white', fontsize=12)\n",
        "plt.show()"
      ],
      "execution_count": null,
      "outputs": [
        {
          "output_type": "display_data",
          "data": {
            "image/png": "[encoded data removed]",
            "text/plain": [
              "<Figure size 720x360 with 1 Axes>"
            ]
          },
          "metadata": {
            "tags": []
          }
        }
      ]
    }
  ]
}